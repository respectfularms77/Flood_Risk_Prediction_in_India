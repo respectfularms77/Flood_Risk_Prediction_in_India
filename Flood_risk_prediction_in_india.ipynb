{
  "nbformat": 4,
  "nbformat_minor": 0,
  "metadata": {
    "colab": {
      "provenance": []
    },
    "kernelspec": {
      "name": "python3",
      "display_name": "Python 3"
    },
    "language_info": {
      "name": "python"
    }
  },
  "cells": [
    {
      "cell_type": "markdown",
      "source": [
        "##**Project Title: Flood Risk Prediction in India**\n",
        "\n",
        "###**Problem Statement:**\n",
        "\n",
        "Floods in India cause severe damage to life, property, and agriculture every year. Early prediction of flood risk based on rainfall, river discharge, and historical trends is essential for effective disaster preparedness and management.\n",
        "\n",
        "###**Description:**\n",
        "The project compares rainfall as well as river data to forecast flood hazards in Indian regions through machine learning models. The research seeks to map high-risks zones, decipher seasonality patterns, and aid in the management of disasters through data-based decision-making."
      ],
      "metadata": {
        "id": "FcwJZPVPeoKC"
      }
    },
    {
      "cell_type": "code",
      "execution_count": 5,
      "metadata": {
        "colab": {
          "base_uri": "https://localhost:8080/"
        },
        "id": "CqmTeYn7HC8G",
        "outputId": "0983ae70-cb71-467d-b4f8-a877f60ffe71",
        "collapsed": true
      },
      "outputs": [
        {
          "output_type": "stream",
          "name": "stdout",
          "text": [
            "Requirement already satisfied: kaggle in /usr/local/lib/python3.12/dist-packages (1.7.4.5)\n",
            "Requirement already satisfied: numpy in /usr/local/lib/python3.12/dist-packages (2.0.2)\n",
            "Requirement already satisfied: pandas in /usr/local/lib/python3.12/dist-packages (2.2.2)\n",
            "Requirement already satisfied: scikit-learn in /usr/local/lib/python3.12/dist-packages (1.6.1)\n",
            "Requirement already satisfied: matplotlib in /usr/local/lib/python3.12/dist-packages (3.10.0)\n",
            "Requirement already satisfied: seaborn in /usr/local/lib/python3.12/dist-packages (0.13.2)\n",
            "Requirement already satisfied: bleach in /usr/local/lib/python3.12/dist-packages (from kaggle) (6.2.0)\n",
            "Requirement already satisfied: certifi>=14.05.14 in /usr/local/lib/python3.12/dist-packages (from kaggle) (2025.8.3)\n",
            "Requirement already satisfied: charset-normalizer in /usr/local/lib/python3.12/dist-packages (from kaggle) (3.4.3)\n",
            "Requirement already satisfied: idna in /usr/local/lib/python3.12/dist-packages (from kaggle) (3.10)\n",
            "Requirement already satisfied: protobuf in /usr/local/lib/python3.12/dist-packages (from kaggle) (5.29.5)\n",
            "Requirement already satisfied: python-dateutil>=2.5.3 in /usr/local/lib/python3.12/dist-packages (from kaggle) (2.9.0.post0)\n",
            "Requirement already satisfied: python-slugify in /usr/local/lib/python3.12/dist-packages (from kaggle) (8.0.4)\n",
            "Requirement already satisfied: requests in /usr/local/lib/python3.12/dist-packages (from kaggle) (2.32.4)\n",
            "Requirement already satisfied: setuptools>=21.0.0 in /usr/local/lib/python3.12/dist-packages (from kaggle) (75.2.0)\n",
            "Requirement already satisfied: six>=1.10 in /usr/local/lib/python3.12/dist-packages (from kaggle) (1.17.0)\n",
            "Requirement already satisfied: text-unidecode in /usr/local/lib/python3.12/dist-packages (from kaggle) (1.3)\n",
            "Requirement already satisfied: tqdm in /usr/local/lib/python3.12/dist-packages (from kaggle) (4.67.1)\n",
            "Requirement already satisfied: urllib3>=1.15.1 in /usr/local/lib/python3.12/dist-packages (from kaggle) (2.5.0)\n",
            "Requirement already satisfied: webencodings in /usr/local/lib/python3.12/dist-packages (from kaggle) (0.5.1)\n",
            "Requirement already satisfied: pytz>=2020.1 in /usr/local/lib/python3.12/dist-packages (from pandas) (2025.2)\n",
            "Requirement already satisfied: tzdata>=2022.7 in /usr/local/lib/python3.12/dist-packages (from pandas) (2025.2)\n",
            "Requirement already satisfied: scipy>=1.6.0 in /usr/local/lib/python3.12/dist-packages (from scikit-learn) (1.16.1)\n",
            "Requirement already satisfied: joblib>=1.2.0 in /usr/local/lib/python3.12/dist-packages (from scikit-learn) (1.5.1)\n",
            "Requirement already satisfied: threadpoolctl>=3.1.0 in /usr/local/lib/python3.12/dist-packages (from scikit-learn) (3.6.0)\n",
            "Requirement already satisfied: contourpy>=1.0.1 in /usr/local/lib/python3.12/dist-packages (from matplotlib) (1.3.3)\n",
            "Requirement already satisfied: cycler>=0.10 in /usr/local/lib/python3.12/dist-packages (from matplotlib) (0.12.1)\n",
            "Requirement already satisfied: fonttools>=4.22.0 in /usr/local/lib/python3.12/dist-packages (from matplotlib) (4.59.1)\n",
            "Requirement already satisfied: kiwisolver>=1.3.1 in /usr/local/lib/python3.12/dist-packages (from matplotlib) (1.4.9)\n",
            "Requirement already satisfied: packaging>=20.0 in /usr/local/lib/python3.12/dist-packages (from matplotlib) (25.0)\n",
            "Requirement already satisfied: pillow>=8 in /usr/local/lib/python3.12/dist-packages (from matplotlib) (11.3.0)\n",
            "Requirement already satisfied: pyparsing>=2.3.1 in /usr/local/lib/python3.12/dist-packages (from matplotlib) (3.2.3)\n"
          ]
        }
      ],
      "source": [
        "# Installing Kaggle Librabries in-case of Need\n",
        "!pip install kaggle numpy pandas scikit-learn matplotlib seaborn"
      ]
    },
    {
      "cell_type": "code",
      "source": [
        "# Imported basic libraries just to load and explore the dataset - gradually I will add more to it\n",
        "import numpy as np\n",
        "import pandas as pd\n",
        "import matplotlib.pyplot as plt\n",
        "import seaborn as sns"
      ],
      "metadata": {
        "id": "qN33rtiTH0I7"
      },
      "execution_count": 6,
      "outputs": []
    },
    {
      "cell_type": "code",
      "source": [
        "# Loading the dataset\n",
        "df = pd.read_csv(\"/flood_risk_dataset_india.csv\")\n",
        "\n",
        "#Displaying the First few rows:\n",
        "print(df.head(7))"
      ],
      "metadata": {
        "id": "IPGKiayZYiR6",
        "colab": {
          "base_uri": "https://localhost:8080/"
        },
        "outputId": "1b0c6d34-815e-4d23-e20d-06d6ba8c0533"
      },
      "execution_count": 7,
      "outputs": [
        {
          "output_type": "stream",
          "name": "stdout",
          "text": [
            "    Latitude  Longitude  Rainfall (mm)  Temperature (°C)  Humidity (%)  \\\n",
            "0  18.861663  78.835584     218.999493         34.144337     43.912963   \n",
            "1  35.570715  77.654451      55.353599         28.778774     27.585422   \n",
            "2  29.227824  73.108463     103.991908         43.934956     30.108738   \n",
            "3  25.361096  85.610733     198.984191         21.569354     34.453690   \n",
            "4  12.524541  81.822101     144.626803         32.635692     36.292267   \n",
            "5  12.523841  93.105329     221.571312         36.006300     39.380945   \n",
            "6   9.684425  68.931178     288.362370         39.766935     40.436802   \n",
            "\n",
            "   River Discharge (m³/s)  Water Level (m)  Elevation (m)    Land Cover  \\\n",
            "0             4236.182888         7.415552     377.465433    Water Body   \n",
            "1             2472.585219         8.811019    7330.608875        Forest   \n",
            "2              977.328053         4.631799    2205.873488  Agricultural   \n",
            "3             3683.208933         2.891787    2512.277800        Desert   \n",
            "4             2093.390678         3.188466    2001.818223  Agricultural   \n",
            "5             2973.137417         6.969483    7433.062836  Agricultural   \n",
            "6              536.326451         5.675580    8661.324855    Water Body   \n",
            "\n",
            "  Soil Type  Population Density  Infrastructure  Historical Floods  \\\n",
            "0      Clay         7276.742184               1                  0   \n",
            "1      Peat         6897.736956               0                  1   \n",
            "2      Loam         4361.518494               1                  1   \n",
            "3     Sandy         6163.069701               1                  1   \n",
            "4      Loam         6167.964591               1                  0   \n",
            "5      Loam         5377.538809               0                  0   \n",
            "6      Silt         6039.090369               0                  0   \n",
            "\n",
            "   Flood Occurred  \n",
            "0               1  \n",
            "1               0  \n",
            "2               1  \n",
            "3               0  \n",
            "4               0  \n",
            "5               1  \n",
            "6               1  \n"
          ]
        }
      ]
    },
    {
      "cell_type": "code",
      "source": [
        "# Exploring the Basics of a Flood Risk Prediction in India dataset\n",
        "print(\"Dataset Info:\")\n",
        "print(df.info())\n",
        "\n",
        "print(\"\\n\\nDataset Summary:\")\n",
        "print(df.describe())\n",
        "\n",
        "print(\"\\n\\nMissing Values:\")\n",
        "print(df.isnull().sum())"
      ],
      "metadata": {
        "colab": {
          "base_uri": "https://localhost:8080/"
        },
        "id": "-fShbznEYtuz",
        "outputId": "1d6bbeaa-cebc-4c8a-8ed9-22376ddb8ed0"
      },
      "execution_count": 8,
      "outputs": [
        {
          "output_type": "stream",
          "name": "stdout",
          "text": [
            "Dataset Info:\n",
            "<class 'pandas.core.frame.DataFrame'>\n",
            "RangeIndex: 10000 entries, 0 to 9999\n",
            "Data columns (total 14 columns):\n",
            " #   Column                  Non-Null Count  Dtype  \n",
            "---  ------                  --------------  -----  \n",
            " 0   Latitude                10000 non-null  float64\n",
            " 1   Longitude               10000 non-null  float64\n",
            " 2   Rainfall (mm)           10000 non-null  float64\n",
            " 3   Temperature (°C)        10000 non-null  float64\n",
            " 4   Humidity (%)            10000 non-null  float64\n",
            " 5   River Discharge (m³/s)  10000 non-null  float64\n",
            " 6   Water Level (m)         10000 non-null  float64\n",
            " 7   Elevation (m)           10000 non-null  float64\n",
            " 8   Land Cover              10000 non-null  object \n",
            " 9   Soil Type               10000 non-null  object \n",
            " 10  Population Density      10000 non-null  float64\n",
            " 11  Infrastructure          10000 non-null  int64  \n",
            " 12  Historical Floods       10000 non-null  int64  \n",
            " 13  Flood Occurred          10000 non-null  int64  \n",
            "dtypes: float64(9), int64(3), object(2)\n",
            "memory usage: 1.1+ MB\n",
            "None\n",
            "\n",
            "\n",
            "Dataset Summary:\n",
            "           Latitude     Longitude  Rainfall (mm)  Temperature (°C)  \\\n",
            "count  10000.000000  10000.000000   10000.000000      10000.000000   \n",
            "mean      22.330627     82.631366     150.015118         29.961401   \n",
            "std        8.341274      8.389542      86.032127          8.669838   \n",
            "min        8.000337     68.004575       0.014437         15.000166   \n",
            "25%       15.143537     75.364428      76.124373         22.405717   \n",
            "50%       22.283330     82.671007     150.620428         30.000907   \n",
            "75%       29.460184     89.937897     223.402156         37.413488   \n",
            "max       36.991813     96.997820     299.970293         44.993681   \n",
            "\n",
            "       Humidity (%)  River Discharge (m³/s)  Water Level (m)  Elevation (m)  \\\n",
            "count  10000.000000            10000.000000     10000.000000   10000.000000   \n",
            "mean      59.749104             2515.722946         5.017881    4417.138177   \n",
            "std       23.142734             1441.706442         2.876579    2530.245421   \n",
            "min       20.001339                0.042161         0.002701       1.150340   \n",
            "25%       39.541778             1284.782376         2.538847    2229.681903   \n",
            "50%       59.497375             2530.451944         5.042094    4417.199761   \n",
            "75%       80.038163             3767.229862         7.524692    6616.729066   \n",
            "max       99.997772             4999.698480         9.996899    8846.894877   \n",
            "\n",
            "       Population Density  Infrastructure  Historical Floods  Flood Occurred  \n",
            "count        10000.000000    10000.000000       10000.000000    10000.000000  \n",
            "mean          5021.468442        0.502000           0.498700        0.505700  \n",
            "std           2882.591520        0.500021           0.500023        0.499993  \n",
            "min              2.289000        0.000000           0.000000        0.000000  \n",
            "25%           2491.766601        0.000000           0.000000        0.000000  \n",
            "50%           5074.392879        1.000000           0.000000        1.000000  \n",
            "75%           7474.228752        1.000000           1.000000        1.000000  \n",
            "max           9999.169530        1.000000           1.000000        1.000000  \n",
            "\n",
            "\n",
            "Missing Values:\n",
            "Latitude                  0\n",
            "Longitude                 0\n",
            "Rainfall (mm)             0\n",
            "Temperature (°C)          0\n",
            "Humidity (%)              0\n",
            "River Discharge (m³/s)    0\n",
            "Water Level (m)           0\n",
            "Elevation (m)             0\n",
            "Land Cover                0\n",
            "Soil Type                 0\n",
            "Population Density        0\n",
            "Infrastructure            0\n",
            "Historical Floods         0\n",
            "Flood Occurred            0\n",
            "dtype: int64\n"
          ]
        }
      ]
    }
  ]
}